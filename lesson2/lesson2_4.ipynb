{
 "cells": [
  {
   "cell_type": "code",
   "execution_count": 3,
   "id": "531e82ad",
   "metadata": {},
   "outputs": [
    {
     "name": "stdout",
     "output_type": "stream",
     "text": [
      "你還未成年\n"
     ]
    }
   ],
   "source": [
    "age = 12\n",
    "if age >= 18:\n",
    "    print(\"你已成年，可以投票!\")\n",
    "else:\n",
    "    print(\"你還未成年\")\n"
   ]
  },
  {
   "cell_type": "code",
   "execution_count": 8,
   "id": "4ef97178",
   "metadata": {},
   "outputs": [
    {
     "name": "stdout",
     "output_type": "stream",
     "text": [
      "你不用讀大學了\n"
     ]
    }
   ],
   "source": [
    "score = 98\n",
    "if score >= 100:\n",
    "    print(\"勉強可以\")\n",
    "elif score >= 99:\n",
    "    print(\"怎麼考這麼差?還不快去讀書!!!\")\n",
    "else:\n",
    "    print(\"你不用讀大學了\")"
   ]
  }
 ],
 "metadata": {
  "kernelspec": {
   "display_name": "web_crawler",
   "language": "python",
   "name": "python3"
  },
  "language_info": {
   "codemirror_mode": {
    "name": "ipython",
    "version": 3
   },
   "file_extension": ".py",
   "mimetype": "text/x-python",
   "name": "python",
   "nbconvert_exporter": "python",
   "pygments_lexer": "ipython3",
   "version": "3.11.13"
  }
 },
 "nbformat": 4,
 "nbformat_minor": 5
}
