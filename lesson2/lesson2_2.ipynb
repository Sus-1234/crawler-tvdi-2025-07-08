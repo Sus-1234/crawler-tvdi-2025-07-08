{
 "cells": [
  {
   "cell_type": "markdown",
   "id": "d050243d",
   "metadata": {},
   "source": [
    "### python 基礎"
   ]
  },
  {
   "cell_type": "code",
   "execution_count": 1,
   "id": "9aeccd91",
   "metadata": {},
   "outputs": [
    {
     "name": "stdout",
     "output_type": "stream",
     "text": [
      "hello python!\n"
     ]
    }
   ],
   "source": [
    "print(\"hello python!\")"
   ]
  },
  {
   "cell_type": "code",
   "execution_count": 3,
   "id": "440febd9",
   "metadata": {},
   "outputs": [
    {
     "name": "stdout",
     "output_type": "stream",
     "text": [
      "Alice\n",
      "25\n",
      "1.65\n",
      "True\n"
     ]
    }
   ],
   "source": [
    "name = \"Alice\"      # 字串(string)\n",
    "age = 25            # 整數(integer)\n",
    "height = 1.65       # 浮點數(float)\n",
    "is_student = True   # 布林值(boolean)\n",
    "\n",
    "print(name)\n",
    "print(age)\n",
    "print(height)\n",
    "print(is_student)"
   ]
  },
  {
   "cell_type": "code",
   "execution_count": 2,
   "id": "5a8c483b",
   "metadata": {},
   "outputs": [
    {
     "name": "stdout",
     "output_type": "stream",
     "text": [
      "總和是:135\n"
     ]
    }
   ],
   "source": [
    "a = 49\n",
    "b = 86\n",
    "sum_result = a + b\n",
    "print(\"總和是:\", sum_result, sep='')"
   ]
  },
  {
   "cell_type": "code",
   "execution_count": 3,
   "id": "e003e604",
   "metadata": {},
   "outputs": [
    {
     "data": {
      "text/plain": [
       "4214"
      ]
     },
     "execution_count": 3,
     "metadata": {},
     "output_type": "execute_result"
    }
   ],
   "source": [
    "a*b"
   ]
  },
  {
   "cell_type": "code",
   "execution_count": 5,
   "id": "d400864d",
   "metadata": {},
   "outputs": [
    {
     "name": "stdout",
     "output_type": "stream",
     "text": [
      "hello--world--!--455\n"
     ]
    }
   ],
   "source": [
    "print('hello', 'world', \"!\", 455, sep='--')"
   ]
  },
  {
   "cell_type": "code",
   "execution_count": 6,
   "id": "f6b5e361",
   "metadata": {},
   "outputs": [
    {
     "name": "stdout",
     "output_type": "stream",
     "text": [
      "角度為 53.13度\n"
     ]
    }
   ],
   "source": [
    "import math\n",
    "opposite = 4\n",
    "hypotenuse = 5\n",
    "radians = math.asin(opposite/hypotenuse)\n",
    "degrees = math.degrees(radians)\n",
    "print(f\"角度為 {degrees:.2f}度\")"
   ]
  }
 ],
 "metadata": {
  "kernelspec": {
   "display_name": "web_crawler",
   "language": "python",
   "name": "python3"
  },
  "language_info": {
   "codemirror_mode": {
    "name": "ipython",
    "version": 3
   },
   "file_extension": ".py",
   "mimetype": "text/x-python",
   "name": "python",
   "nbconvert_exporter": "python",
   "pygments_lexer": "ipython3",
   "version": "3.11.13"
  }
 },
 "nbformat": 4,
 "nbformat_minor": 5
}
