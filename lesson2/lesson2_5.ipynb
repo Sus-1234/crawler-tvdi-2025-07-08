{
 "cells": [
  {
   "cell_type": "code",
   "execution_count": 12,
   "id": "7718a93b",
   "metadata": {},
   "outputs": [
    {
     "name": "stdout",
     "output_type": "stream",
     "text": [
      "總合為5050\n"
     ]
    }
   ],
   "source": [
    "total = 0\n",
    "for i in range(1,101):\n",
    "    total += i\n",
    "print(\"總合為\", total, sep='')"
   ]
  },
  {
   "cell_type": "code",
   "execution_count": 14,
   "id": "e99b67bb",
   "metadata": {},
   "outputs": [
    {
     "name": "stdout",
     "output_type": "stream",
     "text": [
      "計算器:1\n",
      "計算器:2\n",
      "計算器:3\n",
      "計算器:4\n",
      "計算器:5\n",
      "計算器:6\n",
      "計算器:7\n",
      "計算器:8\n",
      "計算器:9\n",
      "計算器:10\n",
      "計算器:11\n"
     ]
    }
   ],
   "source": [
    "i = 0\n",
    "while(True):\n",
    "    is_play = input(\"你還繼續玩嗎?(y/n)\")\n",
    "    if is_play == \"n\":\n",
    "        break\n",
    "    i += 1\n",
    "    print(f\"計算器:{i}\")"
   ]
  }
 ],
 "metadata": {
  "kernelspec": {
   "display_name": "web_crawler",
   "language": "python",
   "name": "python3"
  },
  "language_info": {
   "codemirror_mode": {
    "name": "ipython",
    "version": 3
   },
   "file_extension": ".py",
   "mimetype": "text/x-python",
   "name": "python",
   "nbconvert_exporter": "python",
   "pygments_lexer": "ipython3",
   "version": "3.11.13"
  }
 },
 "nbformat": 4,
 "nbformat_minor": 5
}
