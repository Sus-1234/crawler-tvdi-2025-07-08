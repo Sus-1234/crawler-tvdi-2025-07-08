{
 "cells": [
  {
   "cell_type": "code",
   "execution_count": 6,
   "id": "431ebfea",
   "metadata": {},
   "outputs": [
    {
     "name": "stdout",
     "output_type": "stream",
     "text": [
      "['apple', 'banana', 'cherry']\n",
      "['apple', 'banana', 'cherry']\n",
      "['apple', 'shit', 'cherry']\n",
      "['apple', 'shit', 'cherry']\n",
      "['apple', 'shit', 'cherry']\n"
     ]
    }
   ],
   "source": [
    "fruits = ['apple', 'banana', 'cherry']\n",
    "type(fruits)\n",
    "print(fruits)\n",
    "another_fruits = fruits\n",
    "another_fruits1 = another_fruits\n",
    "print(another_fruits)\n",
    "\n",
    "fruits[1] = 'shit'\n",
    "print(fruits)\n",
    "print(another_fruits)\n",
    "print(another_fruits1)"
   ]
  },
  {
   "cell_type": "code",
   "execution_count": 8,
   "id": "19b3a316",
   "metadata": {},
   "outputs": [
    {
     "name": "stdout",
     "output_type": "stream",
     "text": [
      "apple\n",
      "shit\n",
      "cherry\n"
     ]
    }
   ],
   "source": [
    "print(fruits[0])\n",
    "print(fruits[1])\n",
    "print(fruits[2])"
   ]
  },
  {
   "cell_type": "code",
   "execution_count": 11,
   "id": "7f583b3b",
   "metadata": {},
   "outputs": [
    {
     "name": "stdout",
     "output_type": "stream",
     "text": [
      "<class 'list'>\n"
     ]
    }
   ],
   "source": [
    "print(type(fruits))\n",
    "fruits.append('sus')"
   ]
  },
  {
   "cell_type": "code",
   "execution_count": 12,
   "id": "a05a38ad",
   "metadata": {},
   "outputs": [
    {
     "name": "stdout",
     "output_type": "stream",
     "text": [
      "apple\n",
      "shit\n",
      "cherry\n",
      "sus\n",
      "sus\n"
     ]
    }
   ],
   "source": [
    "for item in fruits:\n",
    "    print(item)\n"
   ]
  },
  {
   "cell_type": "code",
   "execution_count": 13,
   "id": "8a05d230",
   "metadata": {},
   "outputs": [],
   "source": [
    "tel = {'jack': 4098, 'sape': 4198}\n"
   ]
  },
  {
   "cell_type": "code",
   "execution_count": 14,
   "id": "d93400e8",
   "metadata": {},
   "outputs": [
    {
     "data": {
      "text/plain": [
       "4198"
      ]
     },
     "execution_count": 14,
     "metadata": {},
     "output_type": "execute_result"
    }
   ],
   "source": [
    "tel['jack']\n",
    "tel['sape']"
   ]
  },
  {
   "cell_type": "code",
   "execution_count": 15,
   "id": "c6bf175f",
   "metadata": {},
   "outputs": [
    {
     "name": "stdout",
     "output_type": "stream",
     "text": [
      "('jack', 4098)\n",
      "('sape', 4198)\n"
     ]
    }
   ],
   "source": [
    "for item in tel.items():\n",
    "    print(item)"
   ]
  }
 ],
 "metadata": {
  "kernelspec": {
   "display_name": "web_crawler",
   "language": "python",
   "name": "python3"
  },
  "language_info": {
   "codemirror_mode": {
    "name": "ipython",
    "version": 3
   },
   "file_extension": ".py",
   "mimetype": "text/x-python",
   "name": "python",
   "nbconvert_exporter": "python",
   "pygments_lexer": "ipython3",
   "version": "3.11.13"
  }
 },
 "nbformat": 4,
 "nbformat_minor": 5
}
